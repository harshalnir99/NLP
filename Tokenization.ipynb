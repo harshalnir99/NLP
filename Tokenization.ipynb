{
 "cells": [
  {
   "cell_type": "code",
   "execution_count": 1,
   "metadata": {},
   "outputs": [],
   "source": [
    "corpus=\"\"\"\n",
    "Being a Data whizz and having exceptional knowledge in data gathering, data preprocessing, data visualization, feature engineering, and model evaluation make me curious to solve real-life problems by Predictive Analysis and AI. \n",
    "my main focus to derive great business outcomes through a data-driven approach.\n",
    "\n",
    "\"\"\""
   ]
  },
  {
   "cell_type": "code",
   "execution_count": 2,
   "metadata": {},
   "outputs": [],
   "source": [
    "### Paragraph ---> sentence\n",
    "from nltk.tokenize import sent_tokenize"
   ]
  },
  {
   "cell_type": "code",
   "execution_count": 3,
   "metadata": {},
   "outputs": [
    {
     "data": {
      "text/plain": [
       "['\\nBeing a Data whizz and having exceptional knowledge in data gathering, data preprocessing, data visualization, feature engineering, and model evaluation make me curious to solve real-life problems by Predictive Analysis and AI.',\n",
       " 'my main focus to derive great business outcomes through a data-driven approach.']"
      ]
     },
     "execution_count": 3,
     "metadata": {},
     "output_type": "execute_result"
    }
   ],
   "source": [
    "sent_tokenize(corpus)"
   ]
  },
  {
   "cell_type": "code",
   "execution_count": 4,
   "metadata": {},
   "outputs": [],
   "source": [
    "## PAragraph-->words\n",
    "from nltk.tokenize import word_tokenize"
   ]
  },
  {
   "cell_type": "code",
   "execution_count": 5,
   "metadata": {},
   "outputs": [
    {
     "data": {
      "text/plain": [
       "['Being',\n",
       " 'a',\n",
       " 'Data',\n",
       " 'whizz',\n",
       " 'and',\n",
       " 'having',\n",
       " 'exceptional',\n",
       " 'knowledge',\n",
       " 'in',\n",
       " 'data',\n",
       " 'gathering',\n",
       " ',',\n",
       " 'data',\n",
       " 'preprocessing',\n",
       " ',',\n",
       " 'data',\n",
       " 'visualization',\n",
       " ',',\n",
       " 'feature',\n",
       " 'engineering',\n",
       " ',',\n",
       " 'and',\n",
       " 'model',\n",
       " 'evaluation',\n",
       " 'make',\n",
       " 'me',\n",
       " 'curious',\n",
       " 'to',\n",
       " 'solve',\n",
       " 'real-life',\n",
       " 'problems',\n",
       " 'by',\n",
       " 'Predictive',\n",
       " 'Analysis',\n",
       " 'and',\n",
       " 'AI',\n",
       " '.',\n",
       " 'my',\n",
       " 'main',\n",
       " 'focus',\n",
       " 'to',\n",
       " 'derive',\n",
       " 'great',\n",
       " 'business',\n",
       " 'outcomes',\n",
       " 'through',\n",
       " 'a',\n",
       " 'data-driven',\n",
       " 'approach',\n",
       " '.']"
      ]
     },
     "execution_count": 5,
     "metadata": {},
     "output_type": "execute_result"
    }
   ],
   "source": [
    "word_tokenize(corpus)"
   ]
  },
  {
   "cell_type": "code",
   "execution_count": 6,
   "metadata": {},
   "outputs": [],
   "source": [
    "from nltk.tokenize import wordpunct_tokenize"
   ]
  },
  {
   "cell_type": "code",
   "execution_count": 7,
   "metadata": {},
   "outputs": [
    {
     "data": {
      "text/plain": [
       "['Being',\n",
       " 'a',\n",
       " 'Data',\n",
       " 'whizz',\n",
       " 'and',\n",
       " 'having',\n",
       " 'exceptional',\n",
       " 'knowledge',\n",
       " 'in',\n",
       " 'data',\n",
       " 'gathering',\n",
       " ',',\n",
       " 'data',\n",
       " 'preprocessing',\n",
       " ',',\n",
       " 'data',\n",
       " 'visualization',\n",
       " ',',\n",
       " 'feature',\n",
       " 'engineering',\n",
       " ',',\n",
       " 'and',\n",
       " 'model',\n",
       " 'evaluation',\n",
       " 'make',\n",
       " 'me',\n",
       " 'curious',\n",
       " 'to',\n",
       " 'solve',\n",
       " 'real',\n",
       " '-',\n",
       " 'life',\n",
       " 'problems',\n",
       " 'by',\n",
       " 'Predictive',\n",
       " 'Analysis',\n",
       " 'and',\n",
       " 'AI',\n",
       " '.',\n",
       " 'my',\n",
       " 'main',\n",
       " 'focus',\n",
       " 'to',\n",
       " 'derive',\n",
       " 'great',\n",
       " 'business',\n",
       " 'outcomes',\n",
       " 'through',\n",
       " 'a',\n",
       " 'data',\n",
       " '-',\n",
       " 'driven',\n",
       " 'approach',\n",
       " '.']"
      ]
     },
     "execution_count": 7,
     "metadata": {},
     "output_type": "execute_result"
    }
   ],
   "source": [
    "wordpunct_tokenize(corpus)"
   ]
  },
  {
   "cell_type": "code",
   "execution_count": 8,
   "metadata": {},
   "outputs": [],
   "source": [
    "from nltk.tokenize import TreebankWordTokenizer"
   ]
  },
  {
   "cell_type": "code",
   "execution_count": 9,
   "metadata": {},
   "outputs": [],
   "source": [
    "tokenizer=TreebankWordTokenizer()"
   ]
  },
  {
   "cell_type": "code",
   "execution_count": 10,
   "metadata": {},
   "outputs": [
    {
     "data": {
      "text/plain": [
       "['Being',\n",
       " 'a',\n",
       " 'Data',\n",
       " 'whizz',\n",
       " 'and',\n",
       " 'having',\n",
       " 'exceptional',\n",
       " 'knowledge',\n",
       " 'in',\n",
       " 'data',\n",
       " 'gathering',\n",
       " ',',\n",
       " 'data',\n",
       " 'preprocessing',\n",
       " ',',\n",
       " 'data',\n",
       " 'visualization',\n",
       " ',',\n",
       " 'feature',\n",
       " 'engineering',\n",
       " ',',\n",
       " 'and',\n",
       " 'model',\n",
       " 'evaluation',\n",
       " 'make',\n",
       " 'me',\n",
       " 'curious',\n",
       " 'to',\n",
       " 'solve',\n",
       " 'real-life',\n",
       " 'problems',\n",
       " 'by',\n",
       " 'Predictive',\n",
       " 'Analysis',\n",
       " 'and',\n",
       " 'AI.',\n",
       " 'my',\n",
       " 'main',\n",
       " 'focus',\n",
       " 'to',\n",
       " 'derive',\n",
       " 'great',\n",
       " 'business',\n",
       " 'outcomes',\n",
       " 'through',\n",
       " 'a',\n",
       " 'data-driven',\n",
       " 'approach',\n",
       " '.']"
      ]
     },
     "execution_count": 10,
     "metadata": {},
     "output_type": "execute_result"
    }
   ],
   "source": [
    "tokenizer.tokenize(corpus)"
   ]
  },
  {
   "cell_type": "code",
   "execution_count": null,
   "metadata": {},
   "outputs": [],
   "source": []
  }
 ],
 "metadata": {
  "kernelspec": {
   "display_name": "Python 3 (ipykernel)",
   "language": "python",
   "name": "python3"
  },
  "language_info": {
   "codemirror_mode": {
    "name": "ipython",
    "version": 3
   },
   "file_extension": ".py",
   "mimetype": "text/x-python",
   "name": "python",
   "nbconvert_exporter": "python",
   "pygments_lexer": "ipython3",
   "version": "3.9.12"
  }
 },
 "nbformat": 4,
 "nbformat_minor": 4
}
